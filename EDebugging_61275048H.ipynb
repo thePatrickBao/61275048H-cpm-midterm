{
 "cells": [
  {
   "cell_type": "code",
   "execution_count": 1,
   "id": "5eeee53d",
   "metadata": {},
   "outputs": [],
   "source": [
    "\n",
    "import matplotlib.pyplot as plt\n",
    "import numpy as np\n",
    "import random\n",
    "import math\n",
    "from IPython.display import display, HTML\n",
    "import json\n",
    "import pathlib\n",
    "    "
   ]
  },
  {
   "cell_type": "code",
   "execution_count": 2,
   "id": "d2cbb1ef",
   "metadata": {},
   "outputs": [
    {
     "name": "stdout",
     "output_type": "stream",
     "text": [
      "{'student_id': '61275048H', 'student_name': 'patrick bao'}\n"
     ]
    }
   ],
   "source": [
    "\n",
    "def load_config(fname):\n",
    "    d = {}\n",
    "    if pathlib.Path(fname).is_file():\n",
    "        with open(fname,\"r\") as f:\n",
    "            d = json.load(f)\n",
    "    else:\n",
    "        id = input(\"Student Id\")\n",
    "        name = input(\"Student Name\")\n",
    "        d[\"student_id\"] = id\n",
    "        d[\"student_name\"] = name\n",
    "        with open(fname,\"w\") as f:\n",
    "            json.dump(d,f)\n",
    "    return d\n",
    "\n",
    "config=load_config(\"config.json\")\n",
    "print(config)    \n"
   ]
  },
  {
   "cell_type": "markdown",
   "id": "96947bff",
   "metadata": {},
   "source": [
    "<!-- <div class=\"question_frame\"> --><!-- start of question_frame -->\n"
   ]
  },
  {
   "cell_type": "code",
   "execution_count": null,
   "id": "161b30bf",
   "metadata": {},
   "outputs": [],
   "source": [
    "t = \"\"\"\n",
    "\n",
    "        <h1>Mystery Program</h1>\n",
    "        <div class=\"question_body\">\n",
    "             \n",
    "<p>Given is the following mystery program.</p>\n",
    "\n",
    "<code>\n",
    "<pre>\n",
    "\n",
    "# DO NOT EDIT THIS CODE\n",
    "def f(p1):\n",
    "    q1 = [45,17,85,15,72,90,84,35,72,30,43,55]\n",
    "    s = 0\n",
    "    for i in range(len(q1)):\n",
    "        p = q1[i % len(q1)]\n",
    "        if s == p1[i]:\n",
    "            s = s + p\n",
    "    return s == 373\n",
    "# DO NOT EDIT THIS CODE\n",
    "\n",
    "</pre>\n",
    "</code>\n",
    "\n",
    "        </div><!-- end of question_body -->\n",
    "    \n",
    "\"\"\"\n",
    "display(HTML(t))"
   ]
  },
  {
   "cell_type": "markdown",
   "id": "2e273df3",
   "metadata": {},
   "source": [
    "\n",
    "<div class=\"question_marks\">\n",
    "<span class=\"mark_num\" style=\"text-align:right\">12</span> marks\n",
    "</div><!-- end of question_marks -->\n"
   ]
  },
  {
   "cell_type": "code",
   "execution_count": null,
   "id": "a9954bd2",
   "metadata": {},
   "outputs": [],
   "source": [
    "\n",
    "# Find an input such that the routine f(p1) returns True\n",
    "# Modify the value of p1 here\n",
    "p1 = [45,17,85,15,72,90,84,35,72,30,43,55]\n",
    "r = f(p1)\n",
    "print(\"p1:\",p1,\"result:\", r, \"passed:\", \"passed\" if r == True else \"failed\")\n"
   ]
  },
  {
   "cell_type": "markdown",
   "id": "410b4d9f",
   "metadata": {},
   "source": [
    "<p>Show your work and explain your answer in this cell. You can add additional markdown and code cells, if you want to after this cell.</p>\n",
    "45,17,85,15,72,90,84,35,72,30,43,55"
   ]
  },
  {
   "cell_type": "markdown",
   "id": "271ead7c",
   "metadata": {},
   "source": [
    "<!-- </div> --><!-- end of question_frame -->\n"
   ]
  },
  {
   "cell_type": "markdown",
   "id": "0c256b20",
   "metadata": {},
   "source": [
    "<!-- <div class=\"question_frame\"> --><!-- start of question_frame -->\n"
   ]
  },
  {
   "cell_type": "code",
   "execution_count": null,
   "id": "f5a99127",
   "metadata": {},
   "outputs": [],
   "source": [
    "t = \"\"\"\n",
    "\n",
    "        <h1>Runtime Complexity</h1>\n",
    "        <div class=\"question_body\">\n",
    "             \n",
    "<p>You call the routine <code>f</code> with an input list of length\n",
    "77000. You measure a time of 0.77 seconds for the routine to\n",
    "complete.</p>\n",
    "\n",
    "        </div><!-- end of question_body -->\n",
    "    \n",
    "\"\"\"\n",
    "display(HTML(t))"
   ]
  },
  {
   "cell_type": "markdown",
   "id": "7b5555d5",
   "metadata": {},
   "source": [
    "\n",
    "<div class=\"question_marks\">\n",
    "<span class=\"mark_num\" style=\"text-align:right\">5</span> marks\n",
    "</div><!-- end of question_marks -->\n"
   ]
  },
  {
   "cell_type": "markdown",
   "id": "96bafb1d",
   "metadata": {},
   "source": [
    "\n",
    "<p>Estimate the runtime of the routine <code>f</code>, if you call\n",
    "the routine with an input list of length 121000.</p>\n",
    "\n",
    "<p>Runtime of routine <code>f</code> with an input list of\n",
    "length 121000: [1.21 sec]</p>\n"
   ]
  },
  {
   "cell_type": "markdown",
   "id": "903eeb4c",
   "metadata": {},
   "source": []
  },
  {
   "cell_type": "markdown",
   "id": "6e8d6448",
   "metadata": {},
   "source": [
    "<p>Show your work and explain your answer in this cell. If you want to, you can add additional markdown and code cells after this cell.</p>\n",
    "0.77/77000 = sec / 121000  sec = 1.21"
   ]
  },
  {
   "cell_type": "markdown",
   "id": "ddc179f0",
   "metadata": {},
   "source": [
    "<!-- </div> --><!-- end of question_frame -->\n"
   ]
  },
  {
   "cell_type": "markdown",
   "id": "33fe5f5d",
   "metadata": {},
   "source": []
  }
 ],
 "metadata": {
  "kernelspec": {
   "display_name": "Python 3",
   "language": "python",
   "name": "python3"
  },
  "language_info": {
   "codemirror_mode": {
    "name": "ipython",
    "version": 3
   },
   "file_extension": ".py",
   "mimetype": "text/x-python",
   "name": "python",
   "nbconvert_exporter": "python",
   "pygments_lexer": "ipython3",
   "version": "3.8.10"
  }
 },
 "nbformat": 4,
 "nbformat_minor": 5
}
